{
 "cells": [
  {
   "cell_type": "markdown",
   "metadata": {},
   "source": [
    "# Importing Libraries"
   ]
  },
  {
   "cell_type": "code",
   "execution_count": 139,
   "metadata": {},
   "outputs": [],
   "source": [
    "import pandas as pd \n",
    "import numpy as np\n",
    "import pickle"
   ]
  },
  {
   "cell_type": "markdown",
   "metadata": {},
   "source": [
    "# Method for Predition"
   ]
  },
  {
   "cell_type": "markdown",
   "metadata": {},
   "source": [
    "If team is going to score 300+ or not based on Power Play"
   ]
  },
  {
   "cell_type": "code",
   "execution_count": 140,
   "metadata": {},
   "outputs": [],
   "source": [
    "def plus300(team, opposition, ground, runs, wkts):\n",
    "    \n",
    "    if wkts<5:\n",
    "        dataset = pd.read_csv('odi_cricket_dataset.csv')\n",
    "        vectorized = pd.get_dummies(dataset.iloc[:,1:4])\n",
    "        \n",
    "        flag = [False, False, False]\n",
    "        \n",
    "        record = np.zeros((1,132),dtype='float64')\n",
    "        t = \"Team_\" + team\n",
    "        o = \"Opposition_v\\xa0\" + opposition\n",
    "        g = \"Ground_\" + ground\n",
    "        r = runs\n",
    "        w = wkts\n",
    "        \n",
    "        record[0,130] = r\n",
    "        record[0,131] = w\n",
    "        \n",
    "        for i,vec in enumerate(vectorized.columns):\n",
    "            if vec == t:\n",
    "                record[0,i] = 1\n",
    "                flag[0] = True\n",
    "            if vec == o:\n",
    "                record[0,i] = 1\n",
    "                flag[1] = True\n",
    "            if vec == g:\n",
    "                record[0,i] = 1\n",
    "                flag[2] = True\n",
    "                \n",
    "        if(flag[0]==True and flag[1]==True and flag[2]==True):\n",
    "            filename = 'model_1.sav'\n",
    "            model = pickle.load(open(filename, 'rb'))\n",
    "            ans = model.predict(record)\n",
    "            \n",
    "            if ans == 1:\n",
    "                print(team + \" will score 300+\")\n",
    "            elif ans == 0:\n",
    "                print(team + \" will not score 300+\")      \n",
    "        else:\n",
    "            print(\"Incorrect details!\")\n",
    "                \n",
    "    else:\n",
    "        print(team + \" will not score 300+\")"
   ]
  },
  {
   "cell_type": "markdown",
   "metadata": {},
   "source": [
    "If team is going to win or lose based on 1st Innings"
   ]
  },
  {
   "cell_type": "code",
   "execution_count": 141,
   "metadata": {},
   "outputs": [],
   "source": [
    "def result(team, opposition, ground, runs):\n",
    "    \n",
    "    dataset = pd.read_csv('odi_cricket_dataset.csv')\n",
    "    vectorized = pd.get_dummies(dataset.iloc[:,1:4])\n",
    "    \n",
    "    flag = [False, False, False]\n",
    "    \n",
    "    record = np.zeros((1,131),dtype='float64')\n",
    "    t = \"Team_\" + team\n",
    "    o = \"Opposition_v\\xa0\" + opposition\n",
    "    g = \"Ground_\" + ground\n",
    "    r = runs\n",
    "        \n",
    "    record[0,130] = r\n",
    "    \n",
    "    for i,vec in enumerate(vectorized.columns):\n",
    "        if vec == t:\n",
    "            record[0,i] = 1\n",
    "            flag[0] = True\n",
    "        if vec == o:\n",
    "            record[0,i] = 1\n",
    "            flag[1] = True\n",
    "        if vec == g:\n",
    "            record[0,i] = 1\n",
    "            flag[2] = True\n",
    "            \n",
    "    if(flag[0]==True and flag[1]==True and flag[2]==True):\n",
    "        filename = 'model_2.sav'\n",
    "        model = pickle.load(open(filename, 'rb'))\n",
    "        ans = model.predict(record)\n",
    "        \n",
    "        if ans == 1:\n",
    "            print(team + \" will win\")\n",
    "        elif ans == 0:\n",
    "            print(opposition + \" will win\")\n",
    "            \n",
    "    else:\n",
    "        print(\"Incorrect details!\")"
   ]
  },
  {
   "cell_type": "markdown",
   "metadata": {},
   "source": [
    "# Prediction"
   ]
  },
  {
   "cell_type": "code",
   "execution_count": 154,
   "metadata": {},
   "outputs": [
    {
     "name": "stdout",
     "output_type": "stream",
     "text": [
      "Australia will score 300+\n"
     ]
    }
   ],
   "source": [
    "plus300(\"Australia\",\"Pakistan\",\"Sydney\",61,0)"
   ]
  },
  {
   "cell_type": "code",
   "execution_count": 143,
   "metadata": {},
   "outputs": [
    {
     "name": "stdout",
     "output_type": "stream",
     "text": [
      "India will win\n"
     ]
    }
   ],
   "source": [
    "result(\"England\",\"India\",\"Lord's\",230)"
   ]
  }
 ],
 "metadata": {
  "kernelspec": {
   "display_name": "Python 3",
   "language": "python",
   "name": "python3"
  },
  "language_info": {
   "codemirror_mode": {
    "name": "ipython",
    "version": 3
   },
   "file_extension": ".py",
   "mimetype": "text/x-python",
   "name": "python",
   "nbconvert_exporter": "python",
   "pygments_lexer": "ipython3",
   "version": "3.6.4"
  }
 },
 "nbformat": 4,
 "nbformat_minor": 2
}
