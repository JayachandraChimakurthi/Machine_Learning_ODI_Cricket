{
 "cells": [
  {
   "cell_type": "markdown",
   "metadata": {},
   "source": [
    "# Importing Libraries"
   ]
  },
  {
   "cell_type": "code",
   "execution_count": 77,
   "metadata": {},
   "outputs": [],
   "source": [
    "import pandas as pd \n",
    "import numpy as np\n",
    "import pickle"
   ]
  },
  {
   "cell_type": "markdown",
   "metadata": {},
   "source": [
    "# Method for Predition"
   ]
  },
  {
   "cell_type": "markdown",
   "metadata": {},
   "source": [
    "If team is going to score 300+ or not"
   ]
  },
  {
   "cell_type": "code",
   "execution_count": 80,
   "metadata": {},
   "outputs": [],
   "source": [
    "def plus300(team, opposition, ground, runs, wkts):\n",
    "    \n",
    "    if wkts<5:\n",
    "        dataset = pd.read_csv('odi_cricket_dataset.csv')\n",
    "        vectorized = pd.get_dummies(dataset.iloc[:,1:4])\n",
    "        \n",
    "        record = np.zeros((1,132),dtype='float64')\n",
    "        t = \"Team_+\" + team\n",
    "        o = \"Opposition_v\\xa0\" + opposition\n",
    "        g = \"Ground_\" + ground\n",
    "        r = runs\n",
    "        w = wkts\n",
    "        \n",
    "        record[0,130] = r\n",
    "        record[0,131] = w\n",
    "        \n",
    "        for i,vec in enumerate(vectorized.columns):\n",
    "            if vec == t:\n",
    "                record[0,i] = 1;\n",
    "            if vec == o:\n",
    "                record[0,i] = 1;\n",
    "            if vec == g:\n",
    "                record[0,i] = 1;\n",
    "        \n",
    "        filename = 'model_1.sav'\n",
    "        model = pickle.load(open(filename, 'rb'))\n",
    "        ans = model.predict(record)\n",
    "        \n",
    "        if ans == 1:\n",
    "            print(team + \" will score 300+\")\n",
    "        else:\n",
    "            print(team + \" will not score 300+\")\n",
    "        \n",
    "    else:\n",
    "        print(team + \" will not score 300+\")"
   ]
  },
  {
   "cell_type": "markdown",
   "metadata": {},
   "source": [
    "# Prediction"
   ]
  },
  {
   "cell_type": "code",
   "execution_count": 81,
   "metadata": {},
   "outputs": [
    {
     "name": "stdout",
     "output_type": "stream",
     "text": [
      "Sri Lanka will not score 300+\n"
     ]
    }
   ],
   "source": [
    "plus300(\"Sri Lanka\",\"South Africa\",\"Dambulla\",60,2)"
   ]
  }
 ],
 "metadata": {
  "kernelspec": {
   "display_name": "Python 3",
   "language": "python",
   "name": "python3"
  },
  "language_info": {
   "codemirror_mode": {
    "name": "ipython",
    "version": 3
   },
   "file_extension": ".py",
   "mimetype": "text/x-python",
   "name": "python",
   "nbconvert_exporter": "python",
   "pygments_lexer": "ipython3",
   "version": "3.6.4"
  }
 },
 "nbformat": 4,
 "nbformat_minor": 2
}
